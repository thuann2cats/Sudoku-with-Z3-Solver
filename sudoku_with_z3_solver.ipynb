{
 "cells": [
  {
   "cell_type": "markdown",
   "source": [
    "# Experiment: Sudoku with Z3 Solver\n",
    "\n",
    "In this experiment, I used Z3 Solver to solve Sudoku puzzle, after following instructions and tutorials on Z3 website.\n",
    "\n",
    "The input matrix can be modified in the notebook in order to solve a different Sudoku puzzle.\n"
   ],
   "metadata": {
    "collapsed": false
   },
   "id": "cbf265dba84c28c5"
  },
  {
   "cell_type": "code",
   "execution_count": 1,
   "id": "initial_id",
   "metadata": {
    "collapsed": true,
    "ExecuteTime": {
     "end_time": "2023-11-13T10:48:17.119040300Z",
     "start_time": "2023-11-13T10:48:17.013237800Z"
    }
   },
   "outputs": [
    {
     "name": "stdout",
     "output_type": "stream",
     "text": [
      "z3 version: 4.12.2\n"
     ]
    }
   ],
   "source": [
    "import z3\n",
    "from z3 import *\n",
    "print(f\"z3 version: {z3.get_version_string()}\")"
   ]
  },
  {
   "cell_type": "code",
   "execution_count": 2,
   "outputs": [
    {
     "data": {
      "text/plain": "[[x_1_1, x_1_2, x_1_3, x_1_4, x_1_5, x_1_6, x_1_7, x_1_8, x_1_9],\n [x_2_1, x_2_2, x_2_3, x_2_4, x_2_5, x_2_6, x_2_7, x_2_8, x_2_9],\n [x_3_1, x_3_2, x_3_3, x_3_4, x_3_5, x_3_6, x_3_7, x_3_8, x_3_9],\n [x_4_1, x_4_2, x_4_3, x_4_4, x_4_5, x_4_6, x_4_7, x_4_8, x_4_9],\n [x_5_1, x_5_2, x_5_3, x_5_4, x_5_5, x_5_6, x_5_7, x_5_8, x_5_9],\n [x_6_1, x_6_2, x_6_3, x_6_4, x_6_5, x_6_6, x_6_7, x_6_8, x_6_9],\n [x_7_1, x_7_2, x_7_3, x_7_4, x_7_5, x_7_6, x_7_7, x_7_8, x_7_9],\n [x_8_1, x_8_2, x_8_3, x_8_4, x_8_5, x_8_6, x_8_7, x_8_8, x_8_9],\n [x_9_1, x_9_2, x_9_3, x_9_4, x_9_5, x_9_6, x_9_7, x_9_8, x_9_9]]"
     },
     "execution_count": 2,
     "metadata": {},
     "output_type": "execute_result"
    }
   ],
   "source": [
    "# 9x9 matrix of integer variables\n",
    "X = [\n",
    "\t[Int(f\"x_{i+1}_{j+1}\") for j in range(9)]\n",
    "\tfor i in range(9)\n",
    "]\n",
    "X"
   ],
   "metadata": {
    "collapsed": false,
    "ExecuteTime": {
     "end_time": "2023-11-13T10:48:42.870140300Z",
     "start_time": "2023-11-13T10:48:42.646057700Z"
    }
   },
   "id": "6f2485c0fb9fe240"
  },
  {
   "cell_type": "code",
   "execution_count": 3,
   "outputs": [
    {
     "name": "stdout",
     "output_type": "stream",
     "text": [
      "[And(x_1_1 >= 1, x_1_1 <= 9), And(x_1_2 >= 1, x_1_2 <= 9), And(x_1_3 >= 1, x_1_3 <= 9), And(x_1_4 >= 1, x_1_4 <= 9), And(x_1_5 >= 1, x_1_5 <= 9), And(x_1_6 >= 1, x_1_6 <= 9), And(x_1_7 >= 1, x_1_7 <= 9), And(x_1_8 >= 1, x_1_8 <= 9), And(x_1_9 >= 1, x_1_9 <= 9), And(x_2_1 >= 1, x_2_1 <= 9), And(x_2_2 >= 1, x_2_2 <= 9), And(x_2_3 >= 1, x_2_3 <= 9), And(x_2_4 >= 1, x_2_4 <= 9), And(x_2_5 >= 1, x_2_5 <= 9), And(x_2_6 >= 1, x_2_6 <= 9), And(x_2_7 >= 1, x_2_7 <= 9), And(x_2_8 >= 1, x_2_8 <= 9), And(x_2_9 >= 1, x_2_9 <= 9), And(x_3_1 >= 1, x_3_1 <= 9), And(x_3_2 >= 1, x_3_2 <= 9), And(x_3_3 >= 1, x_3_3 <= 9), And(x_3_4 >= 1, x_3_4 <= 9), And(x_3_5 >= 1, x_3_5 <= 9), And(x_3_6 >= 1, x_3_6 <= 9), And(x_3_7 >= 1, x_3_7 <= 9), And(x_3_8 >= 1, x_3_8 <= 9), And(x_3_9 >= 1, x_3_9 <= 9), And(x_4_1 >= 1, x_4_1 <= 9), And(x_4_2 >= 1, x_4_2 <= 9), And(x_4_3 >= 1, x_4_3 <= 9), And(x_4_4 >= 1, x_4_4 <= 9), And(x_4_5 >= 1, x_4_5 <= 9), And(x_4_6 >= 1, x_4_6 <= 9), And(x_4_7 >= 1, x_4_7 <= 9), And(x_4_8 >= 1, x_4_8 <= 9), And(x_4_9 >= 1, x_4_9 <= 9), And(x_5_1 >= 1, x_5_1 <= 9), And(x_5_2 >= 1, x_5_2 <= 9), And(x_5_3 >= 1, x_5_3 <= 9), And(x_5_4 >= 1, x_5_4 <= 9), And(x_5_5 >= 1, x_5_5 <= 9), And(x_5_6 >= 1, x_5_6 <= 9), And(x_5_7 >= 1, x_5_7 <= 9), And(x_5_8 >= 1, x_5_8 <= 9), And(x_5_9 >= 1, x_5_9 <= 9), And(x_6_1 >= 1, x_6_1 <= 9), And(x_6_2 >= 1, x_6_2 <= 9), And(x_6_3 >= 1, x_6_3 <= 9), And(x_6_4 >= 1, x_6_4 <= 9), And(x_6_5 >= 1, x_6_5 <= 9), And(x_6_6 >= 1, x_6_6 <= 9), And(x_6_7 >= 1, x_6_7 <= 9), And(x_6_8 >= 1, x_6_8 <= 9), And(x_6_9 >= 1, x_6_9 <= 9), And(x_7_1 >= 1, x_7_1 <= 9), And(x_7_2 >= 1, x_7_2 <= 9), And(x_7_3 >= 1, x_7_3 <= 9), And(x_7_4 >= 1, x_7_4 <= 9), And(x_7_5 >= 1, x_7_5 <= 9), And(x_7_6 >= 1, x_7_6 <= 9), And(x_7_7 >= 1, x_7_7 <= 9), And(x_7_8 >= 1, x_7_8 <= 9), And(x_7_9 >= 1, x_7_9 <= 9), And(x_8_1 >= 1, x_8_1 <= 9), And(x_8_2 >= 1, x_8_2 <= 9), And(x_8_3 >= 1, x_8_3 <= 9), And(x_8_4 >= 1, x_8_4 <= 9), And(x_8_5 >= 1, x_8_5 <= 9), And(x_8_6 >= 1, x_8_6 <= 9), And(x_8_7 >= 1, x_8_7 <= 9), And(x_8_8 >= 1, x_8_8 <= 9), And(x_8_9 >= 1, x_8_9 <= 9), And(x_9_1 >= 1, x_9_1 <= 9), And(x_9_2 >= 1, x_9_2 <= 9), And(x_9_3 >= 1, x_9_3 <= 9), And(x_9_4 >= 1, x_9_4 <= 9), And(x_9_5 >= 1, x_9_5 <= 9), And(x_9_6 >= 1, x_9_6 <= 9), And(x_9_7 >= 1, x_9_7 <= 9), And(x_9_8 >= 1, x_9_8 <= 9), And(x_9_9 >= 1, x_9_9 <= 9)]\n",
      "<class 'z3.z3.BoolRef'>\n"
     ]
    }
   ],
   "source": [
    "# each cell contains a value in 1..9\n",
    "cells_c = [\n",
    "\tAnd(1<=X[i][j], X[i][j]<=9) \n",
    "\tfor i in range(9) for j in range(9)\n",
    "]\n",
    "print(cells_c)\n",
    "print(type(cells_c[0]))"
   ],
   "metadata": {
    "collapsed": false,
    "ExecuteTime": {
     "end_time": "2023-11-13T10:48:47.860857700Z",
     "start_time": "2023-11-13T10:48:47.439141900Z"
    }
   },
   "id": "a79914a1c102847a"
  },
  {
   "cell_type": "code",
   "execution_count": 4,
   "outputs": [
    {
     "name": "stdout",
     "output_type": "stream",
     "text": [
      "<class 'z3.z3.BoolRef'>\n"
     ]
    },
    {
     "data": {
      "text/plain": "[Distinct(x_1_1,\n          x_1_2,\n          x_1_3,\n          x_1_4,\n          x_1_5,\n          x_1_6,\n          x_1_7,\n          x_1_8,\n          x_1_9),\n Distinct(x_2_1,\n          x_2_2,\n          x_2_3,\n          x_2_4,\n          x_2_5,\n          x_2_6,\n          x_2_7,\n          x_2_8,\n          x_2_9),\n Distinct(x_3_1,\n          x_3_2,\n          x_3_3,\n          x_3_4,\n          x_3_5,\n          x_3_6,\n          x_3_7,\n          x_3_8,\n          x_3_9),\n Distinct(x_4_1,\n          x_4_2,\n          x_4_3,\n          x_4_4,\n          x_4_5,\n          x_4_6,\n          x_4_7,\n          x_4_8,\n          x_4_9),\n Distinct(x_5_1,\n          x_5_2,\n          x_5_3,\n          x_5_4,\n          x_5_5,\n          x_5_6,\n          x_5_7,\n          x_5_8,\n          x_5_9),\n Distinct(x_6_1,\n          x_6_2,\n          x_6_3,\n          x_6_4,\n          x_6_5,\n          x_6_6,\n          x_6_7,\n          x_6_8,\n          x_6_9),\n Distinct(x_7_1,\n          x_7_2,\n          x_7_3,\n          x_7_4,\n          x_7_5,\n          x_7_6,\n          x_7_7,\n          x_7_8,\n          x_7_9),\n Distinct(x_8_1,\n          x_8_2,\n          x_8_3,\n          x_8_4,\n          x_8_5,\n          x_8_6,\n          x_8_7,\n          x_8_8,\n          x_8_9),\n Distinct(x_9_1,\n          x_9_2,\n          x_9_3,\n          x_9_4,\n          x_9_5,\n          x_9_6,\n          x_9_7,\n          x_9_8,\n          x_9_9)]"
     },
     "execution_count": 4,
     "metadata": {},
     "output_type": "execute_result"
    }
   ],
   "source": [
    "# each row contains a digit at most once\n",
    "rows_c = [Distinct(X[i]) for i in range(9)]\n",
    "print(type(rows_c[0]))\n",
    "rows_c"
   ],
   "metadata": {
    "collapsed": false,
    "ExecuteTime": {
     "end_time": "2023-11-13T10:48:56.994368900Z",
     "start_time": "2023-11-13T10:48:56.829673900Z"
    }
   },
   "id": "ffc14b0eedfe57d4"
  },
  {
   "cell_type": "code",
   "execution_count": 5,
   "outputs": [],
   "source": [
    "# each column contains a digit at most once\n",
    "cols_c = [\n",
    "\tDistinct([X[i][j] for i in range(9)])\n",
    "\tfor j in range(9)\n",
    "]"
   ],
   "metadata": {
    "collapsed": false,
    "ExecuteTime": {
     "end_time": "2023-11-13T10:49:04.384623100Z",
     "start_time": "2023-11-13T10:49:04.204955800Z"
    }
   },
   "id": "9e4ce0be164a68e6"
  },
  {
   "cell_type": "code",
   "execution_count": 6,
   "outputs": [
    {
     "name": "stdout",
     "output_type": "stream",
     "text": [
      "<class 'list'>\n"
     ]
    },
    {
     "data": {
      "text/plain": "[Distinct(x_1_1,\n          x_1_2,\n          x_1_3,\n          x_2_1,\n          x_2_2,\n          x_2_3,\n          x_3_1,\n          x_3_2,\n          x_3_3),\n Distinct(x_1_4,\n          x_1_5,\n          x_1_6,\n          x_2_4,\n          x_2_5,\n          x_2_6,\n          x_3_4,\n          x_3_5,\n          x_3_6),\n Distinct(x_1_7,\n          x_1_8,\n          x_1_9,\n          x_2_7,\n          x_2_8,\n          x_2_9,\n          x_3_7,\n          x_3_8,\n          x_3_9),\n Distinct(x_4_1,\n          x_4_2,\n          x_4_3,\n          x_5_1,\n          x_5_2,\n          x_5_3,\n          x_6_1,\n          x_6_2,\n          x_6_3),\n Distinct(x_4_4,\n          x_4_5,\n          x_4_6,\n          x_5_4,\n          x_5_5,\n          x_5_6,\n          x_6_4,\n          x_6_5,\n          x_6_6),\n Distinct(x_4_7,\n          x_4_8,\n          x_4_9,\n          x_5_7,\n          x_5_8,\n          x_5_9,\n          x_6_7,\n          x_6_8,\n          x_6_9),\n Distinct(x_7_1,\n          x_7_2,\n          x_7_3,\n          x_8_1,\n          x_8_2,\n          x_8_3,\n          x_9_1,\n          x_9_2,\n          x_9_3),\n Distinct(x_7_4,\n          x_7_5,\n          x_7_6,\n          x_8_4,\n          x_8_5,\n          x_8_6,\n          x_9_4,\n          x_9_5,\n          x_9_6),\n Distinct(x_7_7,\n          x_7_8,\n          x_7_9,\n          x_8_7,\n          x_8_8,\n          x_8_9,\n          x_9_7,\n          x_9_8,\n          x_9_9)]"
     },
     "execution_count": 6,
     "metadata": {},
     "output_type": "execute_result"
    }
   ],
   "source": [
    "# each 3x3 square contains a digit at most once\n",
    "sq_c = [\n",
    "\tDistinct([\n",
    "\t\tX[3*i0 + i][3*j0 + j]\n",
    "\t\tfor i in range(3)\n",
    "\t\t\tfor j in range(3)\n",
    "\t ])\n",
    "\tfor i0 in range(3)\n",
    "\t\tfor j0 in range(3)\n",
    "]\n",
    "print(type(sq_c))\n",
    "sq_c"
   ],
   "metadata": {
    "collapsed": false,
    "ExecuteTime": {
     "end_time": "2023-11-13T10:49:09.662304300Z",
     "start_time": "2023-11-13T10:49:09.498609200Z"
    }
   },
   "id": "6f172e75567ace7"
  },
  {
   "cell_type": "code",
   "execution_count": 7,
   "outputs": [],
   "source": [
    "# sudoku instance, we use '0' for empty cells\n",
    "instance = ((0,0,0,0,9,4,0,3,0),\n",
    "            (0,0,0,5,1,0,0,0,7),\n",
    "            (0,8,9,0,0,0,0,4,0),\n",
    "            (0,0,0,0,0,0,2,0,8),\n",
    "            (0,6,0,2,0,1,0,5,0),\n",
    "            (1,0,2,0,0,0,0,0,0),\n",
    "            (0,7,0,0,0,0,5,2,0),\n",
    "            (9,0,0,0,6,5,0,0,0),\n",
    "            (0,4,0,9,7,0,0,0,0))\n",
    "\n",
    "instance_c = [ If(instance[i][j] == 0,\n",
    "                  True,\n",
    "                  X[i][j] == instance[i][j])\n",
    "               for i in range(9) for j in range(9) ]"
   ],
   "metadata": {
    "collapsed": false,
    "ExecuteTime": {
     "end_time": "2023-11-13T10:49:20.815558700Z",
     "start_time": "2023-11-13T10:49:20.623915700Z"
    }
   },
   "id": "db19b51dbc32c962"
  },
  {
   "cell_type": "code",
   "execution_count": 8,
   "outputs": [],
   "source": [
    "sudoku_c = cells_c + rows_c + cols_c + sq_c"
   ],
   "metadata": {
    "collapsed": false,
    "ExecuteTime": {
     "end_time": "2023-11-13T10:49:27.206669400Z",
     "start_time": "2023-11-13T10:49:27.115841200Z"
    }
   },
   "id": "4f22b806758ace5"
  },
  {
   "cell_type": "code",
   "execution_count": 9,
   "outputs": [],
   "source": [
    "s = Solver()"
   ],
   "metadata": {
    "collapsed": false,
    "ExecuteTime": {
     "end_time": "2023-11-13T10:49:32.110548600Z",
     "start_time": "2023-11-13T10:49:31.966317Z"
    }
   },
   "id": "44073c75ed70cccb"
  },
  {
   "cell_type": "code",
   "execution_count": 10,
   "outputs": [],
   "source": [
    "s.add(sudoku_c + instance_c)"
   ],
   "metadata": {
    "collapsed": false,
    "ExecuteTime": {
     "end_time": "2023-11-13T10:49:35.628005300Z",
     "start_time": "2023-11-13T10:49:35.400429100Z"
    }
   },
   "id": "a39bc570c2862587"
  },
  {
   "cell_type": "code",
   "execution_count": 11,
   "outputs": [
    {
     "data": {
      "text/plain": "sat",
      "text/html": "<b>sat</b>"
     },
     "execution_count": 11,
     "metadata": {},
     "output_type": "execute_result"
    }
   ],
   "source": [
    "s.check()"
   ],
   "metadata": {
    "collapsed": false,
    "ExecuteTime": {
     "end_time": "2023-11-13T10:49:40.330259600Z",
     "start_time": "2023-11-13T10:49:39.828691900Z"
    }
   },
   "id": "bb8737ae3a5e403b"
  },
  {
   "cell_type": "code",
   "execution_count": 12,
   "outputs": [
    {
     "name": "stdout",
     "output_type": "stream",
     "text": [
      "[x_6_6 = 9,\n",
      " x_4_2 = 9,\n",
      " x_9_6 = 2,\n",
      " x_4_1 = 4,\n",
      " x_3_1 = 6,\n",
      " x_2_8 = 9,\n",
      " x_7_5 = 4,\n",
      " x_2_1 = 2,\n",
      " x_8_2 = 2,\n",
      " x_4_3 = 3,\n",
      " x_6_5 = 8,\n",
      " x_3_4 = 7,\n",
      " x_7_3 = 6,\n",
      " x_7_6 = 8,\n",
      " x_4_4 = 6,\n",
      " x_9_8 = 8,\n",
      " x_6_8 = 6,\n",
      " x_4_6 = 7,\n",
      " x_9_1 = 5,\n",
      " x_3_7 = 1,\n",
      " x_5_7 = 9,\n",
      " x_8_9 = 1,\n",
      " x_5_3 = 7,\n",
      " x_8_7 = 4,\n",
      " x_2_3 = 4,\n",
      " x_6_7 = 7,\n",
      " x_3_5 = 2,\n",
      " x_6_4 = 4,\n",
      " x_1_3 = 5,\n",
      " x_3_6 = 3,\n",
      " x_6_2 = 5,\n",
      " x_7_9 = 9,\n",
      " x_4_8 = 1,\n",
      " x_9_9 = 6,\n",
      " x_1_7 = 6,\n",
      " x_8_3 = 8,\n",
      " x_2_6 = 6,\n",
      " x_4_5 = 5,\n",
      " x_5_5 = 3,\n",
      " x_2_2 = 3,\n",
      " x_8_8 = 7,\n",
      " x_6_9 = 3,\n",
      " x_3_9 = 5,\n",
      " x_7_1 = 3,\n",
      " x_1_4 = 8,\n",
      " x_7_4 = 1,\n",
      " x_8_4 = 3,\n",
      " x_9_3 = 1,\n",
      " x_2_7 = 8,\n",
      " x_1_9 = 2,\n",
      " x_1_2 = 1,\n",
      " x_5_1 = 8,\n",
      " x_9_7 = 3,\n",
      " x_1_1 = 7,\n",
      " x_5_9 = 4,\n",
      " x_8_1 = 9,\n",
      " x_7_7 = 5,\n",
      " x_4_9 = 8,\n",
      " x_8_6 = 5,\n",
      " x_3_2 = 8,\n",
      " x_7_8 = 2,\n",
      " x_2_9 = 7,\n",
      " x_9_4 = 9,\n",
      " x_9_2 = 4,\n",
      " x_5_6 = 1,\n",
      " x_2_5 = 1,\n",
      " x_1_5 = 9,\n",
      " x_3_8 = 4,\n",
      " x_1_6 = 4,\n",
      " x_8_5 = 6,\n",
      " x_2_4 = 5,\n",
      " x_7_2 = 7,\n",
      " x_3_3 = 9,\n",
      " x_6_1 = 1,\n",
      " x_5_4 = 2,\n",
      " x_6_3 = 2,\n",
      " x_4_7 = 2,\n",
      " x_5_2 = 6,\n",
      " x_9_5 = 7,\n",
      " x_1_8 = 3,\n",
      " x_5_8 = 5]\n",
      "[[7, 1, 5, 8, 9, 4, 6, 3, 2],\n",
      " [2, 3, 4, 5, 1, 6, 8, 9, 7],\n",
      " [6, 8, 9, 7, 2, 3, 1, 4, 5],\n",
      " [4, 9, 3, 6, 5, 7, 2, 1, 8],\n",
      " [8, 6, 7, 2, 3, 1, 9, 5, 4],\n",
      " [1, 5, 2, 4, 8, 9, 7, 6, 3],\n",
      " [3, 7, 6, 1, 4, 8, 5, 2, 9],\n",
      " [9, 2, 8, 3, 6, 5, 4, 7, 1],\n",
      " [5, 4, 1, 9, 7, 2, 3, 8, 6]]\n"
     ]
    }
   ],
   "source": [
    "if s.check() == sat:\n",
    "\tm = s.model()\n",
    "\tprint(m)\n",
    "\tr = [\n",
    "\t\t[m.evaluate(X[i][j]) for j in range(9)]\n",
    "\t\tfor i in range(9)\n",
    "\t]\n",
    "\tprint_matrix(r)\n",
    "else:\n",
    "\tprint(\"failed to solve\")"
   ],
   "metadata": {
    "collapsed": false,
    "ExecuteTime": {
     "end_time": "2023-11-13T10:49:50.862669100Z",
     "start_time": "2023-11-13T10:49:49.481238600Z"
    }
   },
   "id": "b5ef623cba3bd003"
  },
  {
   "cell_type": "code",
   "execution_count": null,
   "outputs": [],
   "source": [],
   "metadata": {
    "collapsed": false
   },
   "id": "e67a94c7adf9214d"
  }
 ],
 "metadata": {
  "kernelspec": {
   "display_name": "Python 3",
   "language": "python",
   "name": "python3"
  },
  "language_info": {
   "codemirror_mode": {
    "name": "ipython",
    "version": 2
   },
   "file_extension": ".py",
   "mimetype": "text/x-python",
   "name": "python",
   "nbconvert_exporter": "python",
   "pygments_lexer": "ipython2",
   "version": "2.7.6"
  }
 },
 "nbformat": 4,
 "nbformat_minor": 5
}
